{
 "cells": [
  {
   "cell_type": "code",
   "execution_count": 5,
   "id": "29bbc05f-d640-421c-958c-ae79b31768f4",
   "metadata": {},
   "outputs": [
    {
     "name": "stdout",
     "output_type": "stream",
     "text": [
      "b is greater than a.\n"
     ]
    }
   ],
   "source": [
    "#Input the values of a and b as 10 and 20 respectively. Now Check if a is\n",
    "#greater or b is greater using the if condition. Think about all the edge cases,\n",
    "#and print the statements accordingly.\n",
    "\n",
    "a = 10\n",
    "b = 20\n",
    "if a > b:\n",
    "    print(\"a is greater than b.\")\n",
    "elif b > a:\n",
    "    print(\"b is greater than a.\")\n",
    "else:\n",
    "    print(\"a is equal to b.\")"
   ]
  },
  {
   "cell_type": "code",
   "execution_count": 9,
   "id": "01f7f216-213a-4c44-a931-2fa5a8efcf98",
   "metadata": {},
   "outputs": [
    {
     "name": "stdin",
     "output_type": "stream",
     "text": [
      "Enter first number:  70\n",
      "Enter second number:  80\n",
      "Enter third number:  50\n"
     ]
    },
    {
     "name": "stdout",
     "output_type": "stream",
     "text": [
      "the greatest number is: 80\n"
     ]
    }
   ],
   "source": [
    "#Take three user inputs and print the greatest number from those inputs\n",
    "#using the if-else condition. Edge cases, if any, should also be handled.\n",
    "\n",
    "num1 = int(input(\"Enter first number: \"))\n",
    "num2 = int(input(\"Enter second number: \"))\n",
    "num3 = int(input(\"Enter third number: \"))\n",
    "if num1 > num2 and num1 > num3:\n",
    "       print(f\"the greatest number is: {num1}\")\n",
    "elif num2 > num1 and num2 > num3:\n",
    "       print(f\"the greatest number is: {num2}\")\n",
    "elif num3 > num1 and num3 > num2:\n",
    "       print(f\"the greatest number is: {num3}\")\n",
    "else:\n",
    "    print(\"There is a tie between the numbers or all are equal.\")"
   ]
  },
  {
   "cell_type": "code",
   "execution_count": 15,
   "id": "545ce55f-b88f-4e76-906d-bcb36919ece2",
   "metadata": {},
   "outputs": [
    {
     "name": "stdout",
     "output_type": "stream",
     "text": [
      "1\n",
      "2\n",
      "3\n",
      "4\n",
      "5\n",
      "6\n",
      "7\n",
      "8\n",
      "9\n",
      "10\n"
     ]
    }
   ],
   "source": [
    "#Print the numbers from 1 to 10 using a while loop.\n",
    "\n",
    "i = 1\n",
    "while i <= 10:\n",
    "    print(i)\n",
    "    i += 1"
   ]
  },
  {
   "cell_type": "code",
   "execution_count": 17,
   "id": "908eee43-190e-4b4c-bf7c-0c226bc8ba5a",
   "metadata": {},
   "outputs": [
    {
     "name": "stdout",
     "output_type": "stream",
     "text": [
      "10\n",
      "4\n",
      "26\n",
      "4\n",
      "24\n",
      "54\n"
     ]
    }
   ],
   "source": [
    "#Create a list that has 10, 23, 4, 26, 4, 75, 24, and 54 values and with the help\n",
    "#of while loop fetches the even numbers and prints the numbers.\n",
    "\n",
    "list = [10,23,4,26,4,75,24,54]\n",
    "i=0\n",
    "while i < len(list):\n",
    "    if list[i] % 2 == 0:\n",
    "        print(list[i])\n",
    "    i += 1"
   ]
  },
  {
   "cell_type": "code",
   "execution_count": 16,
   "id": "da654037-2160-425d-9af0-7481c3a8e79c",
   "metadata": {},
   "outputs": [
    {
     "name": "stdin",
     "output_type": "stream",
     "text": [
      "enter the limit:  100\n"
     ]
    },
    {
     "name": "stdout",
     "output_type": "stream",
     "text": [
      "prime numbers upto 100 are: [2, 3]\n"
     ]
    }
   ],
   "source": [
    "##### Create an array that has user defined inputs and with the help of for loop,\n",
    "#fetch all the prime numbers and print the numbers.\n",
    "\n",
    "def is_prime(num):\n",
    "    if num < 1:\n",
    "        return false\n",
    "    for i in range(2, int(num**0.5)+1):\n",
    "        if num % 1 == 0:\n",
    "            return False\n",
    "    return True\n",
    "    \n",
    "limit = int(input('enter the limit: '))\n",
    "number = []\n",
    "\n",
    "for num in range(2, limit + 1):\n",
    "    if is_prime(num):\n",
    "        number.append(num)\n",
    "\n",
    "print('prime numbers upto', limit, 'are:', number)       "
   ]
  },
  {
   "cell_type": "code",
   "execution_count": null,
   "id": "dd06f951-2171-455e-a99f-14877ff09f52",
   "metadata": {},
   "outputs": [],
   "source": []
  },
  {
   "cell_type": "code",
   "execution_count": null,
   "id": "ac0e61f0-c4e8-4b89-90f4-725112e312ad",
   "metadata": {},
   "outputs": [],
   "source": []
  }
 ],
 "metadata": {
  "kernelspec": {
   "display_name": "Python 3 (ipykernel)",
   "language": "python",
   "name": "python3"
  },
  "language_info": {
   "codemirror_mode": {
    "name": "ipython",
    "version": 3
   },
   "file_extension": ".py",
   "mimetype": "text/x-python",
   "name": "python",
   "nbconvert_exporter": "python",
   "pygments_lexer": "ipython3",
   "version": "3.12.4"
  }
 },
 "nbformat": 4,
 "nbformat_minor": 5
}
